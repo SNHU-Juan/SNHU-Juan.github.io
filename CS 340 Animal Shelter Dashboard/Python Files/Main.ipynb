{
 "cells": [
  {
   "cell_type": "code",
   "execution_count": 2,
   "id": "a18d2c2f",
   "metadata": {},
   "outputs": [
    {
     "ename": "ModuleNotFoundError",
     "evalue": "No module named 'AnimalShelter'",
     "output_type": "error",
     "traceback": [
      "\u001b[0;31m---------------------------------------------------------------------------\u001b[0m",
      "\u001b[0;31mModuleNotFoundError\u001b[0m                       Traceback (most recent call last)",
      "Input \u001b[0;32mIn [2]\u001b[0m, in \u001b[0;36m<cell line: 6>\u001b[0;34m()\u001b[0m\n\u001b[1;32m      1\u001b[0m \u001b[38;5;124;03m\"\"\"\u001b[39;00m\n\u001b[1;32m      2\u001b[0m \u001b[38;5;124;03mJuan Topete\u001b[39;00m\n\u001b[1;32m      3\u001b[0m \u001b[38;5;124;03mCS - 340\u001b[39;00m\n\u001b[1;32m      4\u001b[0m \u001b[38;5;124;03m\"\"\"\u001b[39;00m\n\u001b[0;32m----> 6\u001b[0m \u001b[38;5;28;01mfrom\u001b[39;00m \u001b[38;5;21;01mAnimalShelter\u001b[39;00m \u001b[38;5;28;01mimport\u001b[39;00m AnimalShelter\n\u001b[1;32m      7\u001b[0m \u001b[38;5;28;01mfrom\u001b[39;00m \u001b[38;5;21;01mbson\u001b[39;00m\u001b[38;5;21;01m.\u001b[39;00m\u001b[38;5;21;01mobjectid\u001b[39;00m \u001b[38;5;28;01mimport\u001b[39;00m ObjectId\n\u001b[1;32m      9\u001b[0m animals \u001b[38;5;241m=\u001b[39m AnimalShelter(\u001b[38;5;124m\"\u001b[39m\u001b[38;5;124maacuser\u001b[39m\u001b[38;5;124m\"\u001b[39m, \u001b[38;5;124m\"\u001b[39m\u001b[38;5;124maacuser\u001b[39m\u001b[38;5;124m\"\u001b[39m)\n",
      "\u001b[0;31mModuleNotFoundError\u001b[0m: No module named 'AnimalShelter'"
     ]
    }
   ],
   "source": [
    "\n",
    "\"\"\"\n",
    "Juan Topete\n",
    "CS - 340\n",
    "\"\"\"\n",
    "\n",
    "from animal_shelter import AnimalShelter\n",
    "from bson.objectid import ObjectId\n",
    "\n",
    "animals = AnimalShelter()\n",
    "\n",
    "#Valid document create\n",
    "print(animals.create ({ \n",
    " 'age_upon_outcome': \"1 years\",\n",
    " 'animal_id': \"test\",\n",
    " 'animal_type': \"Cat\",\n",
    " 'breed': \"Domestic Shorthair Mix\",\n",
    " 'color': \"Black & White Tabby\",\n",
    " 'date_of_birth': \"2022-03-27\",\n",
    " 'datetime': \"2022-03-27 11:14:00\",\n",
    " 'monthyear': \"2022-03-27T11:14:00\",\n",
    " 'name': \"Blinx\",\n",
    " 'outcome_subtype': \"\",\n",
    " 'outcome_type': 'Adoption',\n",
    " 'sex_upon_outcome': \"Spayed Male\",\n",
    " 'location_lat': 30.6525984560228,\n",
    " 'location_long': -97.7419963476444,\n",
    " 'age_upon_outcome_in_weeks': 52.9215277777778}))\n",
    "\n",
    "#Invalid Document\n",
    "print(animals.create({0:0}))\n",
    "\n",
    "#Valid query\n",
    "query = animals.read({\"name\": \"Binx\"})\n",
    "for animal in query:\n",
    "    print(animal)\n",
    "    \n",
    "#invalid query throws exception\n",
    "print(list(animals.read({0:0})))"
   ]
  },
  {
   "cell_type": "code",
   "execution_count": null,
   "id": "50c1c105",
   "metadata": {},
   "outputs": [],
   "source": []
  },
  {
   "cell_type": "code",
   "execution_count": null,
   "id": "c9f27d7a",
   "metadata": {},
   "outputs": [],
   "source": []
  }
 ],
 "metadata": {
  "kernelspec": {
   "display_name": "Python 3 (ipykernel)",
   "language": "python",
   "name": "python3"
  },
  "language_info": {
   "codemirror_mode": {
    "name": "ipython",
    "version": 3
   },
   "file_extension": ".py",
   "mimetype": "text/x-python",
   "name": "python",
   "nbconvert_exporter": "python",
   "pygments_lexer": "ipython3",
   "version": "3.9.12"
  }
 },
 "nbformat": 4,
 "nbformat_minor": 5
}
